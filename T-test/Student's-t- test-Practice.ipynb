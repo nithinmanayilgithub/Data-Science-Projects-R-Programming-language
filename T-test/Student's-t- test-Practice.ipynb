{
 "cells": [
  {
   "cell_type": "markdown",
   "id": "vocational-locator",
   "metadata": {},
   "source": [
    "# What is t-test?"
   ]
  },
  {
   "cell_type": "markdown",
   "id": "dominant-enhancement",
   "metadata": {},
   "source": [
    "* A hypothesis test/ mathematical tool that summarizes evidence about a hypothesis.\n"
   ]
  },
  {
   "cell_type": "markdown",
   "id": "behavioral-force",
   "metadata": {},
   "source": [
    "# How?"
   ]
  },
  {
   "cell_type": "markdown",
   "id": "stock-graphic",
   "metadata": {
    "ExecuteTime": {
     "end_time": "2021-05-31T05:40:12.982669Z",
     "start_time": "2021-05-31T05:40:12.713Z"
    }
   },
   "source": [
    "\n",
    "* By comparing the parameters of point estimates to the values predicted.\n",
    "* It give us estimates about whether the variation of mean between 2 groups are due to random chance or due to  the product of specific characteristics within the groups"
   ]
  },
  {
   "cell_type": "markdown",
   "id": "interesting-search",
   "metadata": {},
   "source": [
    "# Assumptions Of t-test"
   ]
  },
  {
   "cell_type": "markdown",
   "id": "waiting-plasma",
   "metadata": {},
   "source": [
    "* 1. Dependent variable or Y should be measured on a continuous scale.\n",
    "\n",
    "* 2.  Independent Variable or X consist of 2 categorical, independent groups\n",
    "\n",
    "* 3. You should have independence of Observations\n",
    "\n",
    "* 4. There should be no outliers\n",
    "\n",
    "* 5. Your dependent Variable must be approximately normally distributed for each group of independent variables.\n",
    "\n",
    "* 6. There needs to be homogeneity of variances"
   ]
  },
  {
   "cell_type": "markdown",
   "id": "cardiovascular-spain",
   "metadata": {},
   "source": [
    "Useful Link: https://statistics.laerd.com/spss-tutorials/independent-t-test-using-spss-statistics.php"
   ]
  },
  {
   "cell_type": "markdown",
   "id": "promising-blowing",
   "metadata": {},
   "source": [
    "# Student aclcohol Dataset analysis"
   ]
  },
  {
   "cell_type": "code",
   "execution_count": 6,
   "id": "younger-cursor",
   "metadata": {
    "ExecuteTime": {
     "end_time": "2021-05-31T05:58:01.259770Z",
     "start_time": "2021-05-31T05:53:17.122Z"
    }
   },
   "outputs": [
    {
     "name": "stderr",
     "output_type": "stream",
     "text": [
      "also installing the dependencies 'Rcpp', 'matrixStats', 'RcppArmadillo', 'zip', 'estimability', 'insight', 'miniUI', 'webshot', 'conquer', 'sp', 'openxlsx', 'minqa', 'nloptr', 'RcppEigen', 'effects', 'bdsmatrix', 'crosstalk', 'manipulateWidget', 'mitools', 'carData', 'abind', 'pbkrtest', 'quantreg', 'maptools', 'rio', 'lme4', 'alr4', 'coxme', 'leaps', 'lmtest', 'MatrixModels', 'rgl', 'sandwich', 'SparseM', 'survey'\n",
      "\n"
     ]
    },
    {
     "name": "stdout",
     "output_type": "stream",
     "text": [
      "\n",
      "  There are binary versions available but the source versions are later:\n",
      "                  binary     source needs_compilation\n",
      "RcppArmadillo 0.10.4.0.0 0.10.5.0.0              TRUE\n",
      "zip                2.1.1      2.2.0              TRUE\n",
      "insight           0.14.0     0.14.1             FALSE\n",
      "lme4              1.1-26     1.1-27              TRUE\n",
      "sandwich           3.0-0      3.0-1             FALSE\n",
      "\n",
      "  Binaries will be installed\n",
      "package 'Rcpp' successfully unpacked and MD5 sums checked\n"
     ]
    },
    {
     "name": "stderr",
     "output_type": "stream",
     "text": [
      "Warning message:\n",
      "\"cannot remove prior installation of package 'Rcpp'\"Warning message in file.copy(savedcopy, lib, recursive = TRUE):\n",
      "\"problem copying C:\\Users\\NITHIN\\anaconda3\\envs\\RStudio\\Lib\\R\\library\\00LOCK\\Rcpp\\libs\\x64\\Rcpp.dll to C:\\Users\\NITHIN\\anaconda3\\envs\\RStudio\\Lib\\R\\library\\Rcpp\\libs\\x64\\Rcpp.dll: Permission denied\"Warning message:\n",
      "\"restored 'Rcpp'\""
     ]
    },
    {
     "name": "stdout",
     "output_type": "stream",
     "text": [
      "package 'matrixStats' successfully unpacked and MD5 sums checked\n",
      "package 'RcppArmadillo' successfully unpacked and MD5 sums checked\n",
      "package 'zip' successfully unpacked and MD5 sums checked\n",
      "package 'estimability' successfully unpacked and MD5 sums checked\n",
      "package 'miniUI' successfully unpacked and MD5 sums checked\n",
      "package 'webshot' successfully unpacked and MD5 sums checked\n",
      "package 'conquer' successfully unpacked and MD5 sums checked\n",
      "package 'sp' successfully unpacked and MD5 sums checked\n",
      "package 'openxlsx' successfully unpacked and MD5 sums checked\n",
      "package 'minqa' successfully unpacked and MD5 sums checked\n",
      "package 'nloptr' successfully unpacked and MD5 sums checked\n",
      "package 'RcppEigen' successfully unpacked and MD5 sums checked\n",
      "package 'effects' successfully unpacked and MD5 sums checked\n",
      "package 'bdsmatrix' successfully unpacked and MD5 sums checked\n",
      "package 'crosstalk' successfully unpacked and MD5 sums checked\n",
      "package 'manipulateWidget' successfully unpacked and MD5 sums checked\n",
      "package 'mitools' successfully unpacked and MD5 sums checked\n",
      "package 'carData' successfully unpacked and MD5 sums checked\n",
      "package 'abind' successfully unpacked and MD5 sums checked\n",
      "package 'pbkrtest' successfully unpacked and MD5 sums checked\n",
      "package 'quantreg' successfully unpacked and MD5 sums checked\n",
      "package 'maptools' successfully unpacked and MD5 sums checked\n",
      "package 'rio' successfully unpacked and MD5 sums checked\n",
      "package 'lme4' successfully unpacked and MD5 sums checked\n",
      "package 'alr4' successfully unpacked and MD5 sums checked\n",
      "package 'coxme' successfully unpacked and MD5 sums checked\n",
      "package 'leaps' successfully unpacked and MD5 sums checked\n",
      "package 'lmtest' successfully unpacked and MD5 sums checked\n",
      "package 'MatrixModels' successfully unpacked and MD5 sums checked\n",
      "package 'rgl' successfully unpacked and MD5 sums checked\n",
      "package 'SparseM' successfully unpacked and MD5 sums checked\n",
      "package 'survey' successfully unpacked and MD5 sums checked\n",
      "package 'car' successfully unpacked and MD5 sums checked\n",
      "\n",
      "The downloaded binary packages are in\n",
      "\tC:\\Users\\NITHIN\\AppData\\Local\\Temp\\RtmpuabOOC\\downloaded_packages\n"
     ]
    },
    {
     "name": "stderr",
     "output_type": "stream",
     "text": [
      "installing the source packages 'insight', 'sandwich'\n",
      "\n"
     ]
    }
   ],
   "source": [
    "#install.packages(\"car\", dependencies = TRUE)"
   ]
  },
  {
   "cell_type": "code",
   "execution_count": 7,
   "id": "listed-tumor",
   "metadata": {
    "ExecuteTime": {
     "end_time": "2021-05-31T05:58:38.439203Z",
     "start_time": "2021-05-31T05:58:36.413Z"
    },
    "scrolled": true
   },
   "outputs": [
    {
     "name": "stderr",
     "output_type": "stream",
     "text": [
      "Warning message:\n",
      "\"package 'car' was built under R version 3.6.3\"Loading required package: carData\n",
      "Warning message:\n",
      "\"package 'carData' was built under R version 3.6.3\"\n",
      "Attaching package: 'car'\n",
      "\n",
      "The following object is masked from 'package:dplyr':\n",
      "\n",
      "    recode\n",
      "\n",
      "The following object is masked from 'package:purrr':\n",
      "\n",
      "    some\n",
      "\n"
     ]
    }
   ],
   "source": [
    "# Load relevant libraries\n",
    "library(tidyverse)\n",
    "library(ggplot2)\n",
    "library(car)"
   ]
  },
  {
   "cell_type": "code",
   "execution_count": 9,
   "id": "simplified-rental",
   "metadata": {
    "ExecuteTime": {
     "end_time": "2021-05-31T06:03:05.460720Z",
     "start_time": "2021-05-31T06:03:05.327Z"
    }
   },
   "outputs": [],
   "source": [
    "# Save data in data frames\n",
    "math  <- read.csv(\"C:/Users/NITHIN/Desktop/github/T-test In R/student-mat.csv\")\n",
    "math <- data.frame(math)"
   ]
  },
  {
   "cell_type": "code",
   "execution_count": 10,
   "id": "living-profile",
   "metadata": {
    "ExecuteTime": {
     "end_time": "2021-05-31T06:03:27.580515Z",
     "start_time": "2021-05-31T06:03:26.949Z"
    }
   },
   "outputs": [
    {
     "name": "stdout",
     "output_type": "stream",
     "text": [
      "Observations: 395\n",
      "Variables: 33\n",
      "$ school     <fct> GP, GP, GP, GP, GP, GP, GP, GP, GP, GP, GP, GP, GP, GP, ...\n",
      "$ sex        <fct> F, F, F, F, F, M, M, F, M, M, F, F, M, M, M, F, F, F, M,...\n",
      "$ age        <int> 18, 17, 15, 15, 16, 16, 16, 17, 15, 15, 15, 15, 15, 15, ...\n",
      "$ address    <fct> U, U, U, U, U, U, U, U, U, U, U, U, U, U, U, U, U, U, U,...\n",
      "$ famsize    <fct> GT3, GT3, LE3, GT3, GT3, LE3, LE3, GT3, LE3, GT3, GT3, G...\n",
      "$ Pstatus    <fct> A, T, T, T, T, T, T, A, A, T, T, T, T, T, A, T, T, T, T,...\n",
      "$ Medu       <int> 4, 1, 1, 4, 3, 4, 2, 4, 3, 3, 4, 2, 4, 4, 2, 4, 4, 3, 3,...\n",
      "$ Fedu       <int> 4, 1, 1, 2, 3, 3, 2, 4, 2, 4, 4, 1, 4, 3, 2, 4, 4, 3, 2,...\n",
      "$ Mjob       <fct> at_home, at_home, at_home, health, other, services, othe...\n",
      "$ Fjob       <fct> teacher, other, other, services, other, other, other, te...\n",
      "$ reason     <fct> course, course, other, home, home, reputation, home, hom...\n",
      "$ guardian   <fct> mother, father, mother, mother, father, mother, mother, ...\n",
      "$ traveltime <int> 2, 1, 1, 1, 1, 1, 1, 2, 1, 1, 1, 3, 1, 2, 1, 1, 1, 3, 1,...\n",
      "$ studytime  <int> 2, 2, 2, 3, 2, 2, 2, 2, 2, 2, 2, 3, 1, 2, 3, 1, 3, 2, 1,...\n",
      "$ failures   <int> 0, 0, 3, 0, 0, 0, 0, 0, 0, 0, 0, 0, 0, 0, 0, 0, 0, 0, 3,...\n",
      "$ schoolsup  <fct> yes, no, yes, no, no, no, no, yes, no, no, no, no, no, n...\n",
      "$ famsup     <fct> no, yes, no, yes, yes, yes, no, yes, yes, yes, yes, yes,...\n",
      "$ paid       <fct> no, no, yes, yes, yes, yes, no, no, yes, yes, yes, no, y...\n",
      "$ activities <fct> no, no, no, yes, no, yes, no, no, no, yes, no, yes, yes,...\n",
      "$ nursery    <fct> yes, no, yes, yes, yes, yes, yes, yes, yes, yes, yes, ye...\n",
      "$ higher     <fct> yes, yes, yes, yes, yes, yes, yes, yes, yes, yes, yes, y...\n",
      "$ internet   <fct> no, yes, yes, yes, no, yes, yes, no, yes, yes, yes, yes,...\n",
      "$ romantic   <fct> no, no, no, yes, no, no, no, no, no, no, no, no, no, no,...\n",
      "$ famrel     <int> 4, 5, 4, 3, 4, 5, 4, 4, 4, 5, 3, 5, 4, 5, 4, 4, 3, 5, 5,...\n",
      "$ freetime   <int> 3, 3, 3, 2, 3, 4, 4, 1, 2, 5, 3, 2, 3, 4, 5, 4, 2, 3, 5,...\n",
      "$ goout      <int> 4, 3, 2, 2, 2, 2, 4, 4, 2, 1, 3, 2, 3, 3, 2, 4, 3, 2, 5,...\n",
      "$ Dalc       <int> 1, 1, 2, 1, 1, 1, 1, 1, 1, 1, 1, 1, 1, 1, 1, 1, 1, 1, 2,...\n",
      "$ Walc       <int> 1, 1, 3, 1, 2, 2, 1, 1, 1, 1, 2, 1, 3, 2, 1, 2, 2, 1, 4,...\n",
      "$ health     <int> 3, 3, 3, 5, 5, 5, 3, 1, 1, 5, 2, 4, 5, 3, 3, 2, 2, 4, 5,...\n",
      "$ absences   <int> 6, 4, 10, 2, 4, 10, 0, 6, 0, 0, 0, 4, 2, 2, 0, 4, 6, 4, ...\n",
      "$ G1         <int> 5, 5, 7, 15, 6, 15, 12, 6, 16, 14, 10, 10, 14, 10, 14, 1...\n",
      "$ G2         <int> 6, 5, 8, 14, 10, 15, 12, 5, 18, 15, 8, 12, 14, 10, 16, 1...\n",
      "$ G3         <int> 6, 6, 10, 15, 10, 15, 11, 6, 19, 15, 9, 12, 14, 11, 16, ...\n"
     ]
    }
   ],
   "source": [
    "# Have a look at the dataset.\n",
    "glimpse(math)"
   ]
  },
  {
   "cell_type": "code",
   "execution_count": 12,
   "id": "designed-mathematics",
   "metadata": {
    "ExecuteTime": {
     "end_time": "2021-05-31T06:08:41.625870Z",
     "start_time": "2021-05-31T06:08:41.478Z"
    }
   },
   "outputs": [
    {
     "data": {
      "text/html": [
       "<table>\n",
       "<thead><tr><th scope=col>school</th><th scope=col>sex</th><th scope=col>age</th><th scope=col>address</th><th scope=col>famsize</th><th scope=col>Pstatus</th><th scope=col>Medu</th><th scope=col>Fedu</th><th scope=col>Mjob</th><th scope=col>Fjob</th><th scope=col>...</th><th scope=col>famrel</th><th scope=col>freetime</th><th scope=col>goout</th><th scope=col>Dalc</th><th scope=col>Walc</th><th scope=col>health</th><th scope=col>absences</th><th scope=col>G1</th><th scope=col>G2</th><th scope=col>G3</th></tr></thead>\n",
       "<tbody>\n",
       "\t<tr><td>GP      </td><td>F       </td><td>18      </td><td>U       </td><td>GT3     </td><td>A       </td><td>4       </td><td>4       </td><td>at_home </td><td>teacher </td><td>...     </td><td>4       </td><td>3       </td><td>4       </td><td>1       </td><td>1       </td><td>3       </td><td> 6      </td><td> 5      </td><td> 6      </td><td> 6      </td></tr>\n",
       "\t<tr><td>GP      </td><td>F       </td><td>17      </td><td>U       </td><td>GT3     </td><td>T       </td><td>1       </td><td>1       </td><td>at_home </td><td>other   </td><td>...     </td><td>5       </td><td>3       </td><td>3       </td><td>1       </td><td>1       </td><td>3       </td><td> 4      </td><td> 5      </td><td> 5      </td><td> 6      </td></tr>\n",
       "\t<tr><td>GP      </td><td>F       </td><td>15      </td><td>U       </td><td>LE3     </td><td>T       </td><td>1       </td><td>1       </td><td>at_home </td><td>other   </td><td>...     </td><td>4       </td><td>3       </td><td>2       </td><td>2       </td><td>3       </td><td>3       </td><td>10      </td><td> 7      </td><td> 8      </td><td>10      </td></tr>\n",
       "\t<tr><td>GP      </td><td>F       </td><td>15      </td><td>U       </td><td>GT3     </td><td>T       </td><td>4       </td><td>2       </td><td>health  </td><td>services</td><td>...     </td><td>3       </td><td>2       </td><td>2       </td><td>1       </td><td>1       </td><td>5       </td><td> 2      </td><td>15      </td><td>14      </td><td>15      </td></tr>\n",
       "\t<tr><td>GP      </td><td>F       </td><td>16      </td><td>U       </td><td>GT3     </td><td>T       </td><td>3       </td><td>3       </td><td>other   </td><td>other   </td><td>...     </td><td>4       </td><td>3       </td><td>2       </td><td>1       </td><td>2       </td><td>5       </td><td> 4      </td><td> 6      </td><td>10      </td><td>10      </td></tr>\n",
       "\t<tr><td>GP      </td><td>M       </td><td>16      </td><td>U       </td><td>LE3     </td><td>T       </td><td>4       </td><td>3       </td><td>services</td><td>other   </td><td>...     </td><td>5       </td><td>4       </td><td>2       </td><td>1       </td><td>2       </td><td>5       </td><td>10      </td><td>15      </td><td>15      </td><td>15      </td></tr>\n",
       "</tbody>\n",
       "</table>\n"
      ],
      "text/latex": [
       "\\begin{tabular}{r|lllllllllllllllllllllllllllllllll}\n",
       " school & sex & age & address & famsize & Pstatus & Medu & Fedu & Mjob & Fjob & ... & famrel & freetime & goout & Dalc & Walc & health & absences & G1 & G2 & G3\\\\\n",
       "\\hline\n",
       "\t GP         & F          & 18         & U          & GT3        & A          & 4          & 4          & at\\_home  & teacher    & ...        & 4          & 3          & 4          & 1          & 1          & 3          &  6         &  5         &  6         &  6        \\\\\n",
       "\t GP         & F          & 17         & U          & GT3        & T          & 1          & 1          & at\\_home  & other      & ...        & 5          & 3          & 3          & 1          & 1          & 3          &  4         &  5         &  5         &  6        \\\\\n",
       "\t GP         & F          & 15         & U          & LE3        & T          & 1          & 1          & at\\_home  & other      & ...        & 4          & 3          & 2          & 2          & 3          & 3          & 10         &  7         &  8         & 10        \\\\\n",
       "\t GP       & F        & 15       & U        & GT3      & T        & 4        & 2        & health   & services & ...      & 3        & 2        & 2        & 1        & 1        & 5        &  2       & 15       & 14       & 15      \\\\\n",
       "\t GP       & F        & 16       & U        & GT3      & T        & 3        & 3        & other    & other    & ...      & 4        & 3        & 2        & 1        & 2        & 5        &  4       &  6       & 10       & 10      \\\\\n",
       "\t GP       & M        & 16       & U        & LE3      & T        & 4        & 3        & services & other    & ...      & 5        & 4        & 2        & 1        & 2        & 5        & 10       & 15       & 15       & 15      \\\\\n",
       "\\end{tabular}\n"
      ],
      "text/markdown": [
       "\n",
       "| school | sex | age | address | famsize | Pstatus | Medu | Fedu | Mjob | Fjob | ... | famrel | freetime | goout | Dalc | Walc | health | absences | G1 | G2 | G3 |\n",
       "|---|---|---|---|---|---|---|---|---|---|---|---|---|---|---|---|---|---|---|---|---|\n",
       "| GP       | F        | 18       | U        | GT3      | A        | 4        | 4        | at_home  | teacher  | ...      | 4        | 3        | 4        | 1        | 1        | 3        |  6       |  5       |  6       |  6       |\n",
       "| GP       | F        | 17       | U        | GT3      | T        | 1        | 1        | at_home  | other    | ...      | 5        | 3        | 3        | 1        | 1        | 3        |  4       |  5       |  5       |  6       |\n",
       "| GP       | F        | 15       | U        | LE3      | T        | 1        | 1        | at_home  | other    | ...      | 4        | 3        | 2        | 2        | 3        | 3        | 10       |  7       |  8       | 10       |\n",
       "| GP       | F        | 15       | U        | GT3      | T        | 4        | 2        | health   | services | ...      | 3        | 2        | 2        | 1        | 1        | 5        |  2       | 15       | 14       | 15       |\n",
       "| GP       | F        | 16       | U        | GT3      | T        | 3        | 3        | other    | other    | ...      | 4        | 3        | 2        | 1        | 2        | 5        |  4       |  6       | 10       | 10       |\n",
       "| GP       | M        | 16       | U        | LE3      | T        | 4        | 3        | services | other    | ...      | 5        | 4        | 2        | 1        | 2        | 5        | 10       | 15       | 15       | 15       |\n",
       "\n"
      ],
      "text/plain": [
       "  school sex age address famsize Pstatus Medu Fedu Mjob     Fjob     ... famrel\n",
       "1 GP     F   18  U       GT3     A       4    4    at_home  teacher  ... 4     \n",
       "2 GP     F   17  U       GT3     T       1    1    at_home  other    ... 5     \n",
       "3 GP     F   15  U       LE3     T       1    1    at_home  other    ... 4     \n",
       "4 GP     F   15  U       GT3     T       4    2    health   services ... 3     \n",
       "5 GP     F   16  U       GT3     T       3    3    other    other    ... 4     \n",
       "6 GP     M   16  U       LE3     T       4    3    services other    ... 5     \n",
       "  freetime goout Dalc Walc health absences G1 G2 G3\n",
       "1 3        4     1    1    3       6        5  6  6\n",
       "2 3        3     1    1    3       4        5  5  6\n",
       "3 3        2     2    3    3      10        7  8 10\n",
       "4 2        2     1    1    5       2       15 14 15\n",
       "5 3        2     1    2    5       4        6 10 10\n",
       "6 4        2     1    2    5      10       15 15 15"
      ]
     },
     "metadata": {},
     "output_type": "display_data"
    }
   ],
   "source": [
    "head(math)"
   ]
  },
  {
   "cell_type": "markdown",
   "id": "liberal-reverse",
   "metadata": {
    "ExecuteTime": {
     "end_time": "2021-05-31T06:05:36.700383Z",
     "start_time": "2021-05-31T06:05:36.495Z"
    }
   },
   "source": [
    "* we have 395 observations and 33 variables.\n",
    "\n"
   ]
  },
  {
   "cell_type": "code",
   "execution_count": 13,
   "id": "modified-turkey",
   "metadata": {
    "ExecuteTime": {
     "end_time": "2021-05-31T06:11:17.410643Z",
     "start_time": "2021-05-31T06:11:17.225Z"
    }
   },
   "outputs": [
    {
     "name": "stdout",
     "output_type": "stream",
     "text": [
      "Observations: 395\n",
      "Variables: 2\n",
      "$ sex <fct> F, F, F, F, F, M, M, F, M, M, F, F, M, M, M, F, F, F, M, M, M, ...\n",
      "$ G3  <int> 6, 6, 10, 15, 10, 15, 11, 6, 19, 15, 9, 12, 14, 11, 16, 14, 14,...\n"
     ]
    }
   ],
   "source": [
    "# Make dataset that consists only of math data, with variables sex and final grade.\n",
    "math_2 = subset(math, select = c(sex,G3))\n",
    "glimpse(math_2)\n"
   ]
  },
  {
   "cell_type": "markdown",
   "id": "insured-fruit",
   "metadata": {},
   "source": [
    "##### Question: Is there a statistically significant difference between how well boys and girls do on their final scores?"
   ]
  },
  {
   "cell_type": "markdown",
   "id": "meaningful-farming",
   "metadata": {},
   "source": [
    "* H0 : There is no difference between final grades of 2 groups(girls and Boys)\n",
    "\n",
    "* Ha : There is differnce Between Final Grades of 2 groups"
   ]
  },
  {
   "cell_type": "markdown",
   "id": "subtle-image",
   "metadata": {},
   "source": [
    "Our dependent variable will be final grade, measured from 0-20, and our independent variable for the t-test will be sex."
   ]
  },
  {
   "cell_type": "markdown",
   "id": "single-medicine",
   "metadata": {},
   "source": [
    "###### Assumption # 1: Your dependent variable should be measured on a continuous scale.\n",
    "\n",
    "Our dependent variable is final score on a scale from 0-20. This is a continous variable, as it takes on many different values, all with equal metrics between them."
   ]
  },
  {
   "cell_type": "markdown",
   "id": "champion-floor",
   "metadata": {},
   "source": [
    "###### Assumption # 2: Your independent variable should consist of two categorical, independent groups."
   ]
  },
  {
   "cell_type": "markdown",
   "id": "wooden-lounge",
   "metadata": {},
   "source": [
    "Our independent variable is sex, which (for our purposes at least) is a binary, categorical variable - that is, each observation takes on either male or female in value."
   ]
  },
  {
   "cell_type": "markdown",
   "id": "constant-belly",
   "metadata": {},
   "source": [
    "###### Assumption # 3: You should have independence of observations.\n",
    "\n",
    "Our observations in the 2 groups are independent. that means they donot represent the same individuals having been surveyed at different times. Thus, the groups are independent.If there was dependence we might have approached the problem differently."
   ]
  },
  {
   "cell_type": "markdown",
   "id": "rational-overall",
   "metadata": {},
   "source": [
    "Assumptions 1,2,3 donot require any visualization or data analysis. They are simply determined the variables and observations in the question."
   ]
  },
  {
   "cell_type": "markdown",
   "id": "german-speaking",
   "metadata": {},
   "source": [
    "##### Assumption # 4 There should be no significant outliers."
   ]
  },
  {
   "cell_type": "markdown",
   "id": "subsequent-supervision",
   "metadata": {},
   "source": [
    "To determine whether there are any outliers of significant importance, we will make a visualization of the data. As a categorical variable (eg:sex) cannot have any outliers, we only really need to check the quantitative one, which is final score(G3). So now we'll plot this variable in a few different ways. I have added sex in the bar plot simply to show that the size of both groups are roughly the same."
   ]
  },
  {
   "cell_type": "code",
   "execution_count": 15,
   "id": "detailed-antigua",
   "metadata": {
    "ExecuteTime": {
     "end_time": "2021-05-31T06:46:30.941994Z",
     "start_time": "2021-05-31T06:46:30.744Z"
    }
   },
   "outputs": [
    {
     "data": {
      "text/plain": [
       "\n",
       "  F   M \n",
       "208 187 "
      ]
     },
     "metadata": {},
     "output_type": "display_data"
    }
   ],
   "source": [
    "# In order for us to plot the sex variable in a barplot, we need to save the table information\n",
    "\n",
    "# in a separate vector, which I here call sex_graph. \n",
    "\n",
    "sex_graph <- table(math_2$sex)\n",
    "sex_graph"
   ]
  },
  {
   "cell_type": "code",
   "execution_count": 18,
   "id": "continuous-shape",
   "metadata": {
    "ExecuteTime": {
     "end_time": "2021-05-31T06:57:13.100944Z",
     "start_time": "2021-05-31T06:57:11.550Z"
    }
   },
   "outputs": [
    {
     "data": {
      "image/png": "[encoded data removed]",
      "text/plain": [
       "Plot with title \"density.default(x = math_2$G3)\""
      ]
     },
     "metadata": {},
     "output_type": "display_data"
    }
   ],
   "source": [
    "# Histograms/barplot of the different variables that will be relevant to the statistical tests.\n",
    "\n",
    "par(mfrow=c(2,2))\n",
    "\n",
    "hist(math_2$G3,breaks = 30, col=\"grey\")\n",
    "barplot(sex_graph,col='grey',main = \"Barplot of math_2$sex\")\n",
    "\n",
    "# Density plots for age, absences and final score\n",
    "G3_dens  <- density(math_2$G3)\n",
    "plot(G3_dens)"
   ]
  },
  {
   "cell_type": "markdown",
   "id": "fabulous-reward",
   "metadata": {},
   "source": [
    "There is only a few more females than males, and the final score on math is approximately evenly distributed.\n",
    "\n",
    "However, Large number of individuals have failed tests, that is, received a grade of 0, will pull any analysis of the means of the final score significantly to the left.\n",
    "\n"
   ]
  },
  {
   "cell_type": "code",
   "execution_count": 24,
   "id": "twelve-space",
   "metadata": {
    "ExecuteTime": {
     "end_time": "2021-05-31T11:50:58.233380Z",
     "start_time": "2021-05-31T11:50:56.737Z"
    }
   },
   "outputs": [
    {
     "data": {
      "image/png": "[encoded data removed]",
      "text/plain": [
       "plot without title"
      ]
     },
     "metadata": {},
     "output_type": "display_data"
    },
    {
     "data": {
      "image/png": "[encoded data removed]",
      "text/plain": [
       "Plot with title \"Histogram of math_2$G3[math_2$sex == \"M\"]\""
      ]
     },
     "metadata": {},
     "output_type": "display_data"
    }
   ],
   "source": [
    "# Make a ggplot that portrays both girls and boys in the same plot\n",
    "\n",
    "ggplot(data=math_2,aes(x=G3,fill=sex)) +\n",
    " geom_bar(stat='count',position='dodge',color='black')\n",
    "\n",
    "# Make two plots that show each sex in separate plots.\n",
    "par(mfrow=c(2,1))\n",
    "hist(math_2$G3[math_2$sex=='F'],breaks=30,col=\"grey\")\n",
    "hist(math_2$G3[math_2$sex==\"M\"],breaks=30,col=\"grey\")\n"
   ]
  },
  {
   "cell_type": "markdown",
   "id": "stunning-bubble",
   "metadata": {},
   "source": [
    "so it's hard to get a good idea of the differences between boys and girls based on visualization. They look rather evenly distributed between 2 groups."
   ]
  },
  {
   "cell_type": "code",
   "execution_count": 26,
   "id": "front-vietnamese",
   "metadata": {
    "ExecuteTime": {
     "end_time": "2021-05-31T11:56:35.098653Z",
     "start_time": "2021-05-31T11:56:34.901Z"
    }
   },
   "outputs": [
    {
     "data": {
      "text/html": [
       "9.96634615384615"
      ],
      "text/latex": [
       "9.96634615384615"
      ],
      "text/markdown": [
       "9.96634615384615"
      ],
      "text/plain": [
       "[1] 9.966346"
      ]
     },
     "metadata": {},
     "output_type": "display_data"
    },
    {
     "data": {
      "text/html": [
       "10.9144385026738"
      ],
      "text/latex": [
       "10.9144385026738"
      ],
      "text/markdown": [
       "10.9144385026738"
      ],
      "text/plain": [
       "[1] 10.91444"
      ]
     },
     "metadata": {},
     "output_type": "display_data"
    }
   ],
   "source": [
    "# The mean distribution of both groups, including pupils that got a 0 on the final score \n",
    "\n",
    "mean(math_2$G3[math_2$sex=='F'])\n",
    "mean(math_2$G3[math_2$sex=='M'])"
   ]
  },
  {
   "cell_type": "code",
   "execution_count": 27,
   "id": "according-tobago",
   "metadata": {
    "ExecuteTime": {
     "end_time": "2021-05-31T11:58:48.842908Z",
     "start_time": "2021-05-31T11:58:48.660Z"
    }
   },
   "outputs": [
    {
     "data": {
      "text/html": [
       "11.2054054054054"
      ],
      "text/latex": [
       "11.2054054054054"
      ],
      "text/markdown": [
       "11.2054054054054"
      ],
      "text/plain": [
       "[1] 11.20541"
      ]
     },
     "metadata": {},
     "output_type": "display_data"
    },
    {
     "data": {
      "text/html": [
       "11.8662790697674"
      ],
      "text/latex": [
       "11.8662790697674"
      ],
      "text/markdown": [
       "11.8662790697674"
      ],
      "text/plain": [
       "[1] 11.86628"
      ]
     },
     "metadata": {},
     "output_type": "display_data"
    }
   ],
   "source": [
    "# The mean of both groups, excluding pupils that got 0 on the final score \n",
    "mean(math_2$G3[math_2$sex=='F' & math_2$G3>0])\n",
    "mean(math_2$G3[math_2$sex=='M' & math_2$G3>0])"
   ]
  },
  {
   "cell_type": "markdown",
   "id": "final-healing",
   "metadata": {},
   "source": [
    "* The average grade obviously increases for both groups when we remove the pupils that failed the course.\n",
    "\n",
    "* The difference also shrinks from about 0.95 to about 0.66. "
   ]
  },
  {
   "cell_type": "markdown",
   "id": "specified-theme",
   "metadata": {
    "ExecuteTime": {
     "end_time": "2021-05-31T12:03:21.113920Z",
     "start_time": "2021-05-31T12:03:21.027Z"
    }
   },
   "source": [
    "* we want to evaluate whether the difference is statistically significant uisng t-test."
   ]
  },
  {
   "cell_type": "markdown",
   "id": "balanced-aberdeen",
   "metadata": {},
   "source": [
    "###### Assumption #4 : There should be no significant outliers.\n",
    "\n",
    "We therefore exclude the pupil that received grade 0. The weight of the outlier group distorts the evenly distributed grades in both groups and pulls the average downwards.\n",
    "\n",
    "Not sure, if failed grade actually reflects performance - a number of the 0 - graded pupils might simply have been absent from the tests, and their grade will disproportionately color the results in a negative way. \n",
    "\n",
    "So to meet assumption 4, we drop the observations that are 0 in the G3 variable.\n"
   ]
  },
  {
   "cell_type": "markdown",
   "id": "substantial-explorer",
   "metadata": {},
   "source": [
    "##### Assumption #5: Your dependent variable should be approximately normally distributed for each group of the independent variable."
   ]
  },
  {
   "cell_type": "markdown",
   "id": "wanted-aging",
   "metadata": {},
   "source": [
    "Well, that's easy to determine based on the graphs above - I would definitely accept the distribution of our dependent variable, final score, to be approximately normally distributed when leaving out the pupils that received a 0.\n",
    "\n",
    "If one is not satisfied with the distribution:\n",
    "\n",
    "* you can conform using a <b>shapiro-Wilk Test</b> :a mathematical test to see how it conforms to normal distribution\n",
    "* Transform the variable to more normally distributed values using the <b>ln() function.</b>"
   ]
  },
  {
   "cell_type": "markdown",
   "id": "excessive-romance",
   "metadata": {},
   "source": [
    "###### Assumption #6: There needs to be homogeneity of variances\n",
    "\n",
    "* To check whether the variance between groups are homogenous. There are a few tests:\n",
    "* <b> Bartlett's test</b>\n",
    "* <b> Levene's test</b>"
   ]
  },
  {
   "cell_type": "code",
   "execution_count": 29,
   "id": "auburn-island",
   "metadata": {
    "ExecuteTime": {
     "end_time": "2021-05-31T12:42:07.681786Z",
     "start_time": "2021-05-31T12:42:07.492Z"
    }
   },
   "outputs": [
    {
     "data": {
      "text/plain": [
       "\n",
       "\tBartlett test of homogeneity of variances\n",
       "\n",
       "data:  G3[math_2$G3 > 0] by sex[math_2$G3 > 0]\n",
       "Bartlett's K-squared = 0.12148, df = 1, p-value = 0.7274\n"
      ]
     },
     "metadata": {},
     "output_type": "display_data"
    }
   ],
   "source": [
    "# Run Bartlett's test \n",
    "\n",
    "bartlett.test(G3[math_2$G3>0] ~ sex[math_2$G3 > 0], data=math_2)"
   ]
  },
  {
   "cell_type": "code",
   "execution_count": 30,
   "id": "cardiac-revolution",
   "metadata": {
    "ExecuteTime": {
     "end_time": "2021-05-31T12:43:47.462412Z",
     "start_time": "2021-05-31T12:43:47.212Z"
    }
   },
   "outputs": [
    {
     "data": {
      "text/html": [
       "<table>\n",
       "<thead><tr><th></th><th scope=col>Df</th><th scope=col>F value</th><th scope=col>Pr(&gt;F)</th></tr></thead>\n",
       "<tbody>\n",
       "\t<tr><th scope=row>group</th><td>  1       </td><td>0.06847572</td><td>0.7937063 </td></tr>\n",
       "\t<tr><th scope=row> </th><td>393       </td><td>        NA</td><td>       NA </td></tr>\n",
       "</tbody>\n",
       "</table>\n"
      ],
      "text/latex": [
       "\\begin{tabular}{r|lll}\n",
       "  & Df & F value & Pr(>F)\\\\\n",
       "\\hline\n",
       "\tgroup &   1        & 0.06847572 & 0.7937063 \\\\\n",
       "\t  & 393        &         NA &        NA \\\\\n",
       "\\end{tabular}\n"
      ],
      "text/markdown": [
       "\n",
       "| <!--/--> | Df | F value | Pr(>F) |\n",
       "|---|---|---|---|\n",
       "| group |   1        | 0.06847572 | 0.7937063  |\n",
       "|   | 393        |         NA |        NA  |\n",
       "\n"
      ],
      "text/plain": [
       "      Df  F value    Pr(>F)   \n",
       "group   1 0.06847572 0.7937063\n",
       "      393         NA        NA"
      ]
     },
     "metadata": {},
     "output_type": "display_data"
    }
   ],
   "source": [
    "# Run Levene's test (remember to load the *car* library for to work)\n",
    "leveneTest(y=math_2$G3,group = math_2$sex)"
   ]
  },
  {
   "cell_type": "markdown",
   "id": "helpful-unknown",
   "metadata": {},
   "source": [
    "We  put forward a sub-hypothesis where H0 = No difference in variance across groups.\n",
    "\n",
    "If p-value is higher(E.g:- above 0.1 or whatever threshold is chosen) the test meets the assumption of homogeneity.\n",
    "\n",
    "In short, we need to worry about assumption 6."
   ]
  },
  {
   "cell_type": "markdown",
   "id": "eligible-starter",
   "metadata": {
    "ExecuteTime": {
     "end_time": "2021-05-31T13:01:27.183158Z",
     "start_time": "2021-05-31T13:01:27.107Z"
    }
   },
   "source": [
    "Both have very high p-values, which means that we with confidence can consider number 6 to be met."
   ]
  },
  {
   "cell_type": "code",
   "execution_count": 33,
   "id": "temporal-mediterranean",
   "metadata": {
    "ExecuteTime": {
     "end_time": "2021-05-31T13:04:36.414162Z",
     "start_time": "2021-05-31T13:04:35.348Z"
    }
   },
   "outputs": [
    {
     "data": {
      "image/png": "[encoded data removed]",
      "text/plain": [
       "plot without title"
      ]
     },
     "metadata": {},
     "output_type": "display_data"
    }
   ],
   "source": [
    "# Box plot visualization of the final scores for each sex\n",
    "\n",
    "ggplot(math_2,aes(x = sex, y = G3)) + geom_boxplot(col=\"black\") + ggtitle(\"Final scores averages plottet by sex\")\n",
    "\n"
   ]
  },
  {
   "cell_type": "markdown",
   "id": "mediterranean-cream",
   "metadata": {},
   "source": [
    "* Assumption # 6: There needs to be homogeneity of variances"
   ]
  },
  {
   "cell_type": "markdown",
   "id": "metric-burst",
   "metadata": {},
   "source": [
    "* Based on the two tests and the visualization of the data in question, it is safe to say that the assumption of homogeneity of variance is met in this example."
   ]
  },
  {
   "cell_type": "markdown",
   "id": "endangered-people",
   "metadata": {},
   "source": [
    "Okay - now for the test, which feels a simple considering all the work we have to do to make sure that the relevant assumptions are met. But that's the way with statistics and data science. The basic syntax for the test is the following:"
   ]
  },
  {
   "cell_type": "markdown",
   "id": "complete-vacation",
   "metadata": {},
   "source": [
    "t.test(x, y)"
   ]
  },
  {
   "cell_type": "markdown",
   "id": "medium-comparison",
   "metadata": {},
   "source": [
    "My code might look a bit confusing, but the only thing ascertained by the square brackets are that the observations in which a pupil scored 0 on the final score is removed."
   ]
  },
  {
   "cell_type": "code",
   "execution_count": 34,
   "id": "boring-purpose",
   "metadata": {
    "ExecuteTime": {
     "end_time": "2021-05-31T13:20:05.870979Z",
     "start_time": "2021-05-31T13:20:05.692Z"
    }
   },
   "outputs": [
    {
     "data": {
      "text/plain": [
       "\n",
       "\tWelch Two Sample t-test\n",
       "\n",
       "data:  math_2$G3[math_2$sex == \"F\" & math$G3 > 0] and math_2$G3[math_2$sex == \"M\" & math$G3 > 0]\n",
       "t = -1.9386, df = 351.54, p-value = 0.05335\n",
       "alternative hypothesis: true difference in means is not equal to 0\n",
       "95 percent confidence interval:\n",
       " -1.331331307  0.009583978\n",
       "sample estimates:\n",
       "mean of x mean of y \n",
       " 11.20541  11.86628 \n"
      ]
     },
     "metadata": {},
     "output_type": "display_data"
    }
   ],
   "source": [
    "t.test(math_2$G3[math_2$sex=='F' & math$G3 > 0],math_2$G3[math_2$sex=='M' & math$G3 > 0])"
   ]
  },
  {
   "cell_type": "markdown",
   "id": "amateur-plumbing",
   "metadata": {},
   "source": [
    "We established,\n",
    "\n",
    "H0 : No difference in the mean scores of each group\n",
    "\n",
    " if p-value is lower we reject the null hypothesis.\n",
    " \n",
    " The mean score of girls = 11.20\n",
    " \n",
    " The mean score of boys = 11.86628\n",
    " \n",
    " The difference = 0.66"
   ]
  },
  {
   "cell_type": "markdown",
   "id": "meaningful-speaker",
   "metadata": {},
   "source": [
    "Here p-value is 0.053. p-values should be low inorder to be statistically significant."
   ]
  },
  {
   "cell_type": "markdown",
   "id": "czech-butter",
   "metadata": {},
   "source": [
    "That means we cannot entirely reject the null hypothesis. But the value is so close to the threshold 0.05, which means it would be better if We do further analysis."
   ]
  },
  {
   "cell_type": "markdown",
   "id": "peaceful-peter",
   "metadata": {},
   "source": [
    "###### Reference:"
   ]
  },
  {
   "cell_type": "markdown",
   "id": "indian-maple",
   "metadata": {},
   "source": [
    "https://www.kaggle.com/kappernielsen/independent-t-test-example"
   ]
  }
 ],
 "metadata": {
  "kernelspec": {
   "display_name": "R",
   "language": "R",
   "name": "ir"
  },
  "language_info": {
   "codemirror_mode": "r",
   "file_extension": ".r",
   "mimetype": "text/x-r-source",
   "name": "R",
   "pygments_lexer": "r",
   "version": "3.6.1"
  },
  "toc": {
   "base_numbering": 1,
   "nav_menu": {},
   "number_sections": true,
   "sideBar": true,
   "skip_h1_title": false,
   "title_cell": "Table of Contents",
   "title_sidebar": "Contents",
   "toc_cell": false,
   "toc_position": {},
   "toc_section_display": true,
   "toc_window_display": false
  }
 },
 "nbformat": 4,
 "nbformat_minor": 5
}
